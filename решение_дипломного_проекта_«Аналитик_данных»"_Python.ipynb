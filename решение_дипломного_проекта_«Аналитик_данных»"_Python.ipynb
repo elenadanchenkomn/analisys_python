{
  "cells": [
    {
      "cell_type": "markdown",
      "metadata": {
        "id": "view-in-github",
        "colab_type": "text"
      },
      "source": [
        "<a href=\"https://colab.research.google.com/github/elenadanchenkomn/analisys_python/blob/main/%D1%80%D0%B5%D1%88%D0%B5%D0%BD%D0%B8%D0%B5_%D0%B4%D0%B8%D0%BF%D0%BB%D0%BE%D0%BC%D0%BD%D0%BE%D0%B3%D0%BE_%D0%BF%D1%80%D0%BE%D0%B5%D0%BA%D1%82%D0%B0_%C2%AB%D0%90%D0%BD%D0%B0%D0%BB%D0%B8%D1%82%D0%B8%D0%BA_%D0%B4%D0%B0%D0%BD%D0%BD%D1%8B%D1%85%C2%BB%22_Python.ipynb\" target=\"_parent\"><img src=\"https://colab.research.google.com/assets/colab-badge.svg\" alt=\"Open In Colab\"/></a>"
      ]
    },
    {
      "cell_type": "markdown",
      "metadata": {
        "id": "rGqvZKfu5noe"
      },
      "source": [
        "#### Импорт библиотек"
      ]
    },
    {
      "cell_type": "code",
      "execution_count": null,
      "metadata": {
        "pycharm": {
          "name": "#%%\n"
        },
        "id": "NpkpzcOV5nof"
      },
      "outputs": [],
      "source": [
        "import pandas as pd\n",
        "from sqlalchemy import create_engine, MetaData\n",
        "import matplotlib\n",
        "import matplotlib.pyplot as plt\n",
        "import seaborn as sns\n",
        "import numpy as np\n",
        "from sklearn.linear_model import LinearRegression"
      ]
    },
    {
      "cell_type": "markdown",
      "metadata": {
        "id": "bDPkxg_z5noh"
      },
      "source": [
        "#### Подключение к Базе Данных"
      ]
    },
    {
      "cell_type": "code",
      "execution_count": null,
      "metadata": {
        "id": "ic7GhHg_5noi"
      },
      "outputs": [],
      "source": [
        "db_config = {'user': 'mentor',\n",
        "             'pwd': 'm06uz3.tMQ017y8n',\n",
        "             'host': '185.86.147.205',\n",
        "             'port': 5432,\n",
        "             'db': 'db_mentor'}\n",
        "\n",
        "connection_string = 'postgresql://{}:{}@{}:{}/{}'.format(db_config['user'],\n",
        "                                                         db_config['pwd'],\n",
        "                                                         db_config['host'],\n",
        "                                                         db_config['port'],\n",
        "                                                         db_config['db'])\n",
        "engine = create_engine(connection_string)"
      ]
    },
    {
      "cell_type": "code",
      "execution_count": null,
      "metadata": {
        "id": "us_gjA-y5nok"
      },
      "outputs": [],
      "source": [
        "def select(sql):\n",
        "    return pd.io.sql.read_sql(sql, con = engine)"
      ]
    },
    {
      "cell_type": "markdown",
      "metadata": {
        "id": "Cugj6QNo5nol"
      },
      "source": [
        "Проверим наших пользователей на уникальность "
      ]
    },
    {
      "cell_type": "code",
      "execution_count": null,
      "metadata": {
        "id": "ljRPYe_j5nom",
        "outputId": "b41e0f5c-dc60-4271-e53e-524feaeb116a"
      },
      "outputs": [
        {
          "data": {
            "text/html": [
              "<div>\n",
              "<style scoped>\n",
              "    .dataframe tbody tr th:only-of-type {\n",
              "        vertical-align: middle;\n",
              "    }\n",
              "\n",
              "    .dataframe tbody tr th {\n",
              "        vertical-align: top;\n",
              "    }\n",
              "\n",
              "    .dataframe thead th {\n",
              "        text-align: right;\n",
              "    }\n",
              "</style>\n",
              "<table border=\"1\" class=\"dataframe\">\n",
              "  <thead>\n",
              "    <tr style=\"text-align: right;\">\n",
              "      <th></th>\n",
              "      <th>all_id</th>\n",
              "      <th>all_unique_id</th>\n",
              "    </tr>\n",
              "  </thead>\n",
              "  <tbody>\n",
              "    <tr>\n",
              "      <th>0</th>\n",
              "      <td>3132</td>\n",
              "      <td>3132</td>\n",
              "    </tr>\n",
              "  </tbody>\n",
              "</table>\n",
              "</div>"
            ],
            "text/plain": [
              "   all_id  all_unique_id\n",
              "0    3132           3132"
            ]
          },
          "execution_count": 4,
          "metadata": {},
          "output_type": "execute_result"
        }
      ],
      "source": [
        "sql = '''\n",
        "SELECT  count(*) all_id,\n",
        "        count(DISTINCT user_id) as all_unique_id\n",
        "FROM    users\n",
        "                '''\n",
        "\n",
        "select(sql)"
      ]
    },
    {
      "cell_type": "markdown",
      "metadata": {
        "id": "1X1Z2qGB5noo"
      },
      "source": [
        "Посчитаем, сколько у нас зарегистрированных менторов и менти на платформе"
      ]
    },
    {
      "cell_type": "code",
      "execution_count": null,
      "metadata": {
        "id": "nwWAQqKT5noo",
        "outputId": "96e52b4e-4a88-40af-9c72-831ebb640b73"
      },
      "outputs": [
        {
          "data": {
            "text/html": [
              "<div>\n",
              "<style scoped>\n",
              "    .dataframe tbody tr th:only-of-type {\n",
              "        vertical-align: middle;\n",
              "    }\n",
              "\n",
              "    .dataframe tbody tr th {\n",
              "        vertical-align: top;\n",
              "    }\n",
              "\n",
              "    .dataframe thead th {\n",
              "        text-align: right;\n",
              "    }\n",
              "</style>\n",
              "<table border=\"1\" class=\"dataframe\">\n",
              "  <thead>\n",
              "    <tr style=\"text-align: right;\">\n",
              "      <th></th>\n",
              "      <th>role</th>\n",
              "      <th>user_quantity</th>\n",
              "    </tr>\n",
              "  </thead>\n",
              "  <tbody>\n",
              "    <tr>\n",
              "      <th>0</th>\n",
              "      <td>mentee</td>\n",
              "      <td>2509</td>\n",
              "    </tr>\n",
              "    <tr>\n",
              "      <th>1</th>\n",
              "      <td>mentor</td>\n",
              "      <td>623</td>\n",
              "    </tr>\n",
              "  </tbody>\n",
              "</table>\n",
              "</div>"
            ],
            "text/plain": [
              "     role  user_quantity\n",
              "0  mentee           2509\n",
              "1  mentor            623"
            ]
          },
          "execution_count": 5,
          "metadata": {},
          "output_type": "execute_result"
        }
      ],
      "source": [
        "sql = '''\n",
        "SELECT  role,\n",
        "        count(user_id) as user_quantity\n",
        "FROM    users\n",
        "GROUP BY \n",
        "        role\n",
        "                '''\n",
        "\n",
        "select(sql)"
      ]
    },
    {
      "cell_type": "markdown",
      "metadata": {
        "id": "P8WjHtIA5nop"
      },
      "source": [
        "Проверим сессии на уникальность id и посчитаем, сколько было проведено сессий"
      ]
    },
    {
      "cell_type": "code",
      "execution_count": null,
      "metadata": {
        "id": "FLjlRp265noq",
        "outputId": "47a27065-9af8-424e-84c7-1026dfdde677"
      },
      "outputs": [
        {
          "data": {
            "text/html": [
              "<div>\n",
              "<style scoped>\n",
              "    .dataframe tbody tr th:only-of-type {\n",
              "        vertical-align: middle;\n",
              "    }\n",
              "\n",
              "    .dataframe tbody tr th {\n",
              "        vertical-align: top;\n",
              "    }\n",
              "\n",
              "    .dataframe thead th {\n",
              "        text-align: right;\n",
              "    }\n",
              "</style>\n",
              "<table border=\"1\" class=\"dataframe\">\n",
              "  <thead>\n",
              "    <tr style=\"text-align: right;\">\n",
              "      <th></th>\n",
              "      <th>all_id</th>\n",
              "      <th>all_unique_id</th>\n",
              "    </tr>\n",
              "  </thead>\n",
              "  <tbody>\n",
              "    <tr>\n",
              "      <th>0</th>\n",
              "      <td>6524</td>\n",
              "      <td>6524</td>\n",
              "    </tr>\n",
              "  </tbody>\n",
              "</table>\n",
              "</div>"
            ],
            "text/plain": [
              "   all_id  all_unique_id\n",
              "0    6524           6524"
            ]
          },
          "execution_count": 6,
          "metadata": {},
          "output_type": "execute_result"
        }
      ],
      "source": [
        "sql = '''\n",
        "SELECT  count(*) as all_id,\n",
        "        count(DISTINCT session_id) as all_unique_id\n",
        "FROM    sessions\n",
        "                '''\n",
        "\n",
        "select(sql)"
      ]
    },
    {
      "cell_type": "markdown",
      "metadata": {
        "id": "tAMuZaDJ5nor"
      },
      "source": [
        "Убедимся, что все менти и менторы, участвовавшие в сессиях у нас есть в таблице пользователей"
      ]
    },
    {
      "cell_type": "code",
      "execution_count": null,
      "metadata": {
        "id": "W0bOTaBv5nor",
        "outputId": "2758d0da-d694-4fb9-da87-7ed07243c9df"
      },
      "outputs": [
        {
          "name": "stdout",
          "output_type": "stream",
          "text": [
            "Количество менти, которых нет в users:  0\n",
            "Количество менторов, которых нет в users:  0\n"
          ]
        }
      ],
      "source": [
        "sql = '''\n",
        "SELECT  count(DISTINCT mentee_id) as mentee_quantity\n",
        "FROM    sessions s \n",
        "WHERE   NOT EXISTS (SELECT user_id FROM users WHERE mentee_id = user_id)\n",
        "                '''\n",
        "\n",
        "print('Количество менти, которых нет в users: ', select(sql)['mentee_quantity'].loc[select(sql).index[0]])\n",
        "\n",
        "sql = '''\n",
        "SELECT  count(DISTINCT mentor_id) as mentor_quantity\n",
        "FROM    sessions s \n",
        "WHERE   NOT EXISTS (SELECT user_id FROM users WHERE mentor_id  = user_id)\n",
        "                '''\n",
        "\n",
        "print('Количество менторов, которых нет в users: ', select(sql)['mentor_quantity'].loc[select(sql).index[0]])"
      ]
    },
    {
      "cell_type": "markdown",
      "metadata": {
        "id": "2H-4Nhf75nos"
      },
      "source": [
        "Все пользователи у нас есть"
      ]
    },
    {
      "cell_type": "markdown",
      "metadata": {
        "id": "PGXO1-BK5not"
      },
      "source": [
        "Проведя небольшую исследовательскую работу с данными, мы выяснили что менторы не могут быть менти и наоборот, что все id уникальны. "
      ]
    },
    {
      "cell_type": "markdown",
      "metadata": {
        "id": "xqCXcRlb5nou"
      },
      "source": [
        "\n",
        "Какое количество менторов и менти взаимодействуют каждый месяц на нашей платформе? Как меняется этот показатель из месяца в месяц?"
      ]
    },
    {
      "cell_type": "code",
      "execution_count": null,
      "metadata": {
        "id": "MmKGavhu5nou",
        "outputId": "d46e156f-f695-4063-9049-fdde90b860eb"
      },
      "outputs": [
        {
          "data": {
            "text/html": [
              "<div>\n",
              "<style scoped>\n",
              "    .dataframe tbody tr th:only-of-type {\n",
              "        vertical-align: middle;\n",
              "    }\n",
              "\n",
              "    .dataframe tbody tr th {\n",
              "        vertical-align: top;\n",
              "    }\n",
              "\n",
              "    .dataframe thead th {\n",
              "        text-align: right;\n",
              "    }\n",
              "</style>\n",
              "<table border=\"1\" class=\"dataframe\">\n",
              "  <thead>\n",
              "    <tr style=\"text-align: right;\">\n",
              "      <th></th>\n",
              "      <th>session_month</th>\n",
              "      <th>mentee_cnt</th>\n",
              "      <th>mentor_cnt</th>\n",
              "    </tr>\n",
              "  </thead>\n",
              "  <tbody>\n",
              "    <tr>\n",
              "      <th>0</th>\n",
              "      <td>2021-02-01</td>\n",
              "      <td>3</td>\n",
              "      <td>3</td>\n",
              "    </tr>\n",
              "    <tr>\n",
              "      <th>1</th>\n",
              "      <td>2021-03-01</td>\n",
              "      <td>3</td>\n",
              "      <td>3</td>\n",
              "    </tr>\n",
              "    <tr>\n",
              "      <th>2</th>\n",
              "      <td>2021-04-01</td>\n",
              "      <td>7</td>\n",
              "      <td>7</td>\n",
              "    </tr>\n",
              "    <tr>\n",
              "      <th>3</th>\n",
              "      <td>2021-05-01</td>\n",
              "      <td>19</td>\n",
              "      <td>18</td>\n",
              "    </tr>\n",
              "    <tr>\n",
              "      <th>4</th>\n",
              "      <td>2021-06-01</td>\n",
              "      <td>27</td>\n",
              "      <td>24</td>\n",
              "    </tr>\n",
              "    <tr>\n",
              "      <th>5</th>\n",
              "      <td>2021-07-01</td>\n",
              "      <td>35</td>\n",
              "      <td>37</td>\n",
              "    </tr>\n",
              "    <tr>\n",
              "      <th>6</th>\n",
              "      <td>2021-08-01</td>\n",
              "      <td>56</td>\n",
              "      <td>53</td>\n",
              "    </tr>\n",
              "    <tr>\n",
              "      <th>7</th>\n",
              "      <td>2021-09-01</td>\n",
              "      <td>70</td>\n",
              "      <td>63</td>\n",
              "    </tr>\n",
              "    <tr>\n",
              "      <th>8</th>\n",
              "      <td>2021-10-01</td>\n",
              "      <td>89</td>\n",
              "      <td>86</td>\n",
              "    </tr>\n",
              "    <tr>\n",
              "      <th>9</th>\n",
              "      <td>2021-11-01</td>\n",
              "      <td>114</td>\n",
              "      <td>102</td>\n",
              "    </tr>\n",
              "    <tr>\n",
              "      <th>10</th>\n",
              "      <td>2021-12-01</td>\n",
              "      <td>149</td>\n",
              "      <td>135</td>\n",
              "    </tr>\n",
              "    <tr>\n",
              "      <th>11</th>\n",
              "      <td>2022-01-01</td>\n",
              "      <td>169</td>\n",
              "      <td>154</td>\n",
              "    </tr>\n",
              "    <tr>\n",
              "      <th>12</th>\n",
              "      <td>2022-02-01</td>\n",
              "      <td>202</td>\n",
              "      <td>174</td>\n",
              "    </tr>\n",
              "    <tr>\n",
              "      <th>13</th>\n",
              "      <td>2022-03-01</td>\n",
              "      <td>287</td>\n",
              "      <td>232</td>\n",
              "    </tr>\n",
              "    <tr>\n",
              "      <th>14</th>\n",
              "      <td>2022-04-01</td>\n",
              "      <td>386</td>\n",
              "      <td>298</td>\n",
              "    </tr>\n",
              "    <tr>\n",
              "      <th>15</th>\n",
              "      <td>2022-05-01</td>\n",
              "      <td>475</td>\n",
              "      <td>343</td>\n",
              "    </tr>\n",
              "    <tr>\n",
              "      <th>16</th>\n",
              "      <td>2022-06-01</td>\n",
              "      <td>552</td>\n",
              "      <td>384</td>\n",
              "    </tr>\n",
              "    <tr>\n",
              "      <th>17</th>\n",
              "      <td>2022-07-01</td>\n",
              "      <td>684</td>\n",
              "      <td>446</td>\n",
              "    </tr>\n",
              "    <tr>\n",
              "      <th>18</th>\n",
              "      <td>2022-08-01</td>\n",
              "      <td>883</td>\n",
              "      <td>509</td>\n",
              "    </tr>\n",
              "    <tr>\n",
              "      <th>19</th>\n",
              "      <td>2022-09-01</td>\n",
              "      <td>757</td>\n",
              "      <td>469</td>\n",
              "    </tr>\n",
              "  </tbody>\n",
              "</table>\n",
              "</div>"
            ],
            "text/plain": [
              "   session_month  mentee_cnt  mentor_cnt\n",
              "0     2021-02-01           3           3\n",
              "1     2021-03-01           3           3\n",
              "2     2021-04-01           7           7\n",
              "3     2021-05-01          19          18\n",
              "4     2021-06-01          27          24\n",
              "5     2021-07-01          35          37\n",
              "6     2021-08-01          56          53\n",
              "7     2021-09-01          70          63\n",
              "8     2021-10-01          89          86\n",
              "9     2021-11-01         114         102\n",
              "10    2021-12-01         149         135\n",
              "11    2022-01-01         169         154\n",
              "12    2022-02-01         202         174\n",
              "13    2022-03-01         287         232\n",
              "14    2022-04-01         386         298\n",
              "15    2022-05-01         475         343\n",
              "16    2022-06-01         552         384\n",
              "17    2022-07-01         684         446\n",
              "18    2022-08-01         883         509\n",
              "19    2022-09-01         757         469"
            ]
          },
          "execution_count": 8,
          "metadata": {},
          "output_type": "execute_result"
        }
      ],
      "source": [
        "sql = '''\n",
        "SELECT  date_trunc('month', session_date_time) :: date as session_month, \n",
        "        count(DISTINCT mentee_id) as mentee_cnt, \n",
        "        count(DISTINCT mentor_id) as mentor_cnt\n",
        "FROM    sessions s \n",
        "GROUP BY \n",
        "        session_month\n",
        "ORDER BY \n",
        "        session_month\n",
        "                '''\n",
        "\n",
        "select(sql)"
      ]
    },
    {
      "cell_type": "markdown",
      "metadata": {
        "id": "_efJ3AZu5nov"
      },
      "source": [
        "Данные имеют четкий восходящий тренд: количество пользователей приростает от месяца к месяцу.Но в сентябре количество менти и менторов принимающих участие в сессиях меньше, чем в августе. Проверим полноту данных за сентябрь:"
      ]
    },
    {
      "cell_type": "code",
      "execution_count": null,
      "metadata": {
        "id": "02N0WiIk5now",
        "outputId": "cbeec8ab-3044-408e-ecbf-be3116fd9488"
      },
      "outputs": [
        {
          "data": {
            "text/html": [
              "<div>\n",
              "<style scoped>\n",
              "    .dataframe tbody tr th:only-of-type {\n",
              "        vertical-align: middle;\n",
              "    }\n",
              "\n",
              "    .dataframe tbody tr th {\n",
              "        vertical-align: top;\n",
              "    }\n",
              "\n",
              "    .dataframe thead th {\n",
              "        text-align: right;\n",
              "    }\n",
              "</style>\n",
              "<table border=\"1\" class=\"dataframe\">\n",
              "  <thead>\n",
              "    <tr style=\"text-align: right;\">\n",
              "      <th></th>\n",
              "      <th>max_date</th>\n",
              "    </tr>\n",
              "  </thead>\n",
              "  <tbody>\n",
              "    <tr>\n",
              "      <th>0</th>\n",
              "      <td>2022-09-15 23:47:25</td>\n",
              "    </tr>\n",
              "  </tbody>\n",
              "</table>\n",
              "</div>"
            ],
            "text/plain": [
              "             max_date\n",
              "0 2022-09-15 23:47:25"
            ]
          },
          "execution_count": 9,
          "metadata": {},
          "output_type": "execute_result"
        }
      ],
      "source": [
        "sql = '''\n",
        "SELECT  max(session_date_time) as max_date\n",
        "FROM    sessions s \n",
        "                '''\n",
        "\n",
        "select(sql)"
      ]
    },
    {
      "cell_type": "markdown",
      "metadata": {
        "id": "NneI9igH5now"
      },
      "source": [
        "Снижение в сентябре не является ухудшением, потому что месяц еще не завершился и данные не полные. "
      ]
    },
    {
      "cell_type": "markdown",
      "metadata": {
        "id": "RaAhSGo05now"
      },
      "source": [
        "\n",
        "Сколько на платформе менторов и менти, которые еще не приняли участие ни в одной встрече?"
      ]
    },
    {
      "cell_type": "code",
      "execution_count": null,
      "metadata": {
        "id": "6HW_cUje5nox",
        "outputId": "d70a089d-6e6e-4204-ba25-666ec5a20e91"
      },
      "outputs": [
        {
          "name": "stdout",
          "output_type": "stream",
          "text": [
            "Количество менти, которые не приняли участие ни в одной сессии:  662\n",
            "Количество менторов, которые не приняли участие ни в одной сессии:  0\n"
          ]
        }
      ],
      "source": [
        "sql = '''\n",
        "SELECT  count(user_id) FILTER (WHERE \"role\" = 'mentee') as mentee_quantity\n",
        "FROM    users u \n",
        "WHERE   NOT EXISTS (SELECT mentee_id FROM sessions WHERE mentee_id = user_id)\n",
        "                '''\n",
        "\n",
        "print('Количество менти, которые не приняли участие ни в одной сессии: ', select(sql)['mentee_quantity'].loc[select(sql).index[0]])\n",
        "\n",
        "sql = '''\n",
        "SELECT  count(user_id) FILTER (WHERE \"role\" = 'mentor') as mentor_quantity\n",
        "FROM    users u \n",
        "WHERE   NOT EXISTS (SELECT mentor_id FROM sessions WHERE mentor_id = user_id)\n",
        "                '''\n",
        "\n",
        "print('Количество менторов, которые не приняли участие ни в одной сессии: ', select(sql)['mentor_quantity'].loc[select(sql).index[0]])"
      ]
    },
    {
      "cell_type": "markdown",
      "metadata": {
        "id": "XYfEnGd_5nox"
      },
      "source": [
        "Из сопутсвующих данных есть только дата регистрации пользователя и регион. Сгруппируем пользователей по этим признакам. Нет менторов, которые не принимают участие в сессиях, поэтому рассмотрим только менти. "
      ]
    },
    {
      "cell_type": "code",
      "execution_count": null,
      "metadata": {
        "id": "ARrCt2sS5nox",
        "outputId": "32176924-45ac-4fce-e5f3-70bc748aa336"
      },
      "outputs": [
        {
          "data": {
            "text/html": [
              "<div>\n",
              "<style scoped>\n",
              "    .dataframe tbody tr th:only-of-type {\n",
              "        vertical-align: middle;\n",
              "    }\n",
              "\n",
              "    .dataframe tbody tr th {\n",
              "        vertical-align: top;\n",
              "    }\n",
              "\n",
              "    .dataframe thead th {\n",
              "        text-align: right;\n",
              "    }\n",
              "</style>\n",
              "<table border=\"1\" class=\"dataframe\">\n",
              "  <thead>\n",
              "    <tr style=\"text-align: right;\">\n",
              "      <th></th>\n",
              "      <th>created_month</th>\n",
              "      <th>mentee_quantity</th>\n",
              "    </tr>\n",
              "  </thead>\n",
              "  <tbody>\n",
              "    <tr>\n",
              "      <th>0</th>\n",
              "      <td>2021-01-01</td>\n",
              "      <td>29</td>\n",
              "    </tr>\n",
              "    <tr>\n",
              "      <th>1</th>\n",
              "      <td>2021-02-01</td>\n",
              "      <td>19</td>\n",
              "    </tr>\n",
              "    <tr>\n",
              "      <th>2</th>\n",
              "      <td>2021-03-01</td>\n",
              "      <td>38</td>\n",
              "    </tr>\n",
              "    <tr>\n",
              "      <th>3</th>\n",
              "      <td>2021-04-01</td>\n",
              "      <td>25</td>\n",
              "    </tr>\n",
              "    <tr>\n",
              "      <th>4</th>\n",
              "      <td>2021-05-01</td>\n",
              "      <td>30</td>\n",
              "    </tr>\n",
              "    <tr>\n",
              "      <th>5</th>\n",
              "      <td>2021-06-01</td>\n",
              "      <td>36</td>\n",
              "    </tr>\n",
              "    <tr>\n",
              "      <th>6</th>\n",
              "      <td>2021-07-01</td>\n",
              "      <td>47</td>\n",
              "    </tr>\n",
              "    <tr>\n",
              "      <th>7</th>\n",
              "      <td>2021-08-01</td>\n",
              "      <td>33</td>\n",
              "    </tr>\n",
              "    <tr>\n",
              "      <th>8</th>\n",
              "      <td>2021-09-01</td>\n",
              "      <td>32</td>\n",
              "    </tr>\n",
              "    <tr>\n",
              "      <th>9</th>\n",
              "      <td>2021-10-01</td>\n",
              "      <td>30</td>\n",
              "    </tr>\n",
              "    <tr>\n",
              "      <th>10</th>\n",
              "      <td>2021-11-01</td>\n",
              "      <td>22</td>\n",
              "    </tr>\n",
              "    <tr>\n",
              "      <th>11</th>\n",
              "      <td>2021-12-01</td>\n",
              "      <td>43</td>\n",
              "    </tr>\n",
              "    <tr>\n",
              "      <th>12</th>\n",
              "      <td>2022-01-01</td>\n",
              "      <td>38</td>\n",
              "    </tr>\n",
              "    <tr>\n",
              "      <th>13</th>\n",
              "      <td>2022-02-01</td>\n",
              "      <td>29</td>\n",
              "    </tr>\n",
              "    <tr>\n",
              "      <th>14</th>\n",
              "      <td>2022-03-01</td>\n",
              "      <td>31</td>\n",
              "    </tr>\n",
              "    <tr>\n",
              "      <th>15</th>\n",
              "      <td>2022-04-01</td>\n",
              "      <td>36</td>\n",
              "    </tr>\n",
              "    <tr>\n",
              "      <th>16</th>\n",
              "      <td>2022-05-01</td>\n",
              "      <td>26</td>\n",
              "    </tr>\n",
              "    <tr>\n",
              "      <th>17</th>\n",
              "      <td>2022-06-01</td>\n",
              "      <td>40</td>\n",
              "    </tr>\n",
              "    <tr>\n",
              "      <th>18</th>\n",
              "      <td>2022-07-01</td>\n",
              "      <td>36</td>\n",
              "    </tr>\n",
              "    <tr>\n",
              "      <th>19</th>\n",
              "      <td>2022-08-01</td>\n",
              "      <td>31</td>\n",
              "    </tr>\n",
              "    <tr>\n",
              "      <th>20</th>\n",
              "      <td>2022-09-01</td>\n",
              "      <td>11</td>\n",
              "    </tr>\n",
              "  </tbody>\n",
              "</table>\n",
              "</div>"
            ],
            "text/plain": [
              "   created_month  mentee_quantity\n",
              "0     2021-01-01               29\n",
              "1     2021-02-01               19\n",
              "2     2021-03-01               38\n",
              "3     2021-04-01               25\n",
              "4     2021-05-01               30\n",
              "5     2021-06-01               36\n",
              "6     2021-07-01               47\n",
              "7     2021-08-01               33\n",
              "8     2021-09-01               32\n",
              "9     2021-10-01               30\n",
              "10    2021-11-01               22\n",
              "11    2021-12-01               43\n",
              "12    2022-01-01               38\n",
              "13    2022-02-01               29\n",
              "14    2022-03-01               31\n",
              "15    2022-04-01               36\n",
              "16    2022-05-01               26\n",
              "17    2022-06-01               40\n",
              "18    2022-07-01               36\n",
              "19    2022-08-01               31\n",
              "20    2022-09-01               11"
            ]
          },
          "execution_count": 11,
          "metadata": {},
          "output_type": "execute_result"
        }
      ],
      "source": [
        "# Менти (дата регистрации)\n",
        "sql = '''\n",
        "SELECT  date_trunc('month', reg_date) :: date as created_month,\n",
        "        count(user_id) FILTER (WHERE \"role\" = 'mentee') as mentee_quantity\n",
        "FROM    users u \n",
        "WHERE   NOT EXISTS (SELECT mentee_id FROM sessions WHERE mentee_id = user_id)\n",
        "GROUP BY    \n",
        "        created_month\n",
        "ORDER BY \n",
        "        created_month\n",
        "                '''\n",
        "\n",
        "select(sql)"
      ]
    },
    {
      "cell_type": "code",
      "execution_count": null,
      "metadata": {
        "id": "KxDK60e85noy",
        "outputId": "a2662f39-759c-480c-f5c0-2c1eba92a7c9"
      },
      "outputs": [
        {
          "data": {
            "text/html": [
              "<div>\n",
              "<style scoped>\n",
              "    .dataframe tbody tr th:only-of-type {\n",
              "        vertical-align: middle;\n",
              "    }\n",
              "\n",
              "    .dataframe tbody tr th {\n",
              "        vertical-align: top;\n",
              "    }\n",
              "\n",
              "    .dataframe thead th {\n",
              "        text-align: right;\n",
              "    }\n",
              "</style>\n",
              "<table border=\"1\" class=\"dataframe\">\n",
              "  <thead>\n",
              "    <tr style=\"text-align: right;\">\n",
              "      <th></th>\n",
              "      <th>region_name</th>\n",
              "      <th>person_quantity</th>\n",
              "    </tr>\n",
              "  </thead>\n",
              "  <tbody>\n",
              "    <tr>\n",
              "      <th>0</th>\n",
              "      <td>г Москва</td>\n",
              "      <td>272</td>\n",
              "    </tr>\n",
              "    <tr>\n",
              "      <th>1</th>\n",
              "      <td>Ростовская обл</td>\n",
              "      <td>71</td>\n",
              "    </tr>\n",
              "    <tr>\n",
              "      <th>2</th>\n",
              "      <td>г Санкт-Петербург</td>\n",
              "      <td>70</td>\n",
              "    </tr>\n",
              "    <tr>\n",
              "      <th>3</th>\n",
              "      <td>Ленинградская обл</td>\n",
              "      <td>49</td>\n",
              "    </tr>\n",
              "    <tr>\n",
              "      <th>4</th>\n",
              "      <td>Краснодарский край</td>\n",
              "      <td>49</td>\n",
              "    </tr>\n",
              "  </tbody>\n",
              "</table>\n",
              "</div>"
            ],
            "text/plain": [
              "          region_name  person_quantity\n",
              "0            г Москва              272\n",
              "1      Ростовская обл               71\n",
              "2   г Санкт-Петербург               70\n",
              "3   Ленинградская обл               49\n",
              "4  Краснодарский край               49"
            ]
          },
          "execution_count": 12,
          "metadata": {},
          "output_type": "execute_result"
        }
      ],
      "source": [
        "# Менти (регионы)\n",
        "sql = '''\n",
        "SELECT  r.\"name\" as region_name,\n",
        "        count(id) FILTER (WHERE \"role\" = 'mentee') as person_quantity\n",
        "FROM    users u \n",
        "        LEFT JOIN region r \n",
        "            ON u.region_id = r.id \n",
        "WHERE   NOT EXISTS (SELECT mentee_id FROM sessions WHERE mentee_id = user_id)\n",
        "GROUP BY    \n",
        "        r.\"name\"\n",
        "ORDER BY \n",
        "        person_quantity DESC \n",
        "                '''\n",
        "\n",
        "select(sql).head(5)"
      ]
    },
    {
      "cell_type": "markdown",
      "metadata": {
        "id": "kLzULXqJ5noy"
      },
      "source": [
        "Может показаться, что пользователи из Москвы являются тем сегментом, который не пользуется сервисом. Однако, важнее посмотреть какая доля пользователей из этого региона не приходит на занятия. Рассчитаем этот показатель: "
      ]
    },
    {
      "cell_type": "code",
      "execution_count": null,
      "metadata": {
        "id": "9jScJ_OQ5noz",
        "outputId": "b03763ab-2c7b-436f-9df7-c0b1a1cabeef"
      },
      "outputs": [
        {
          "data": {
            "text/html": [
              "<div>\n",
              "<style scoped>\n",
              "    .dataframe tbody tr th:only-of-type {\n",
              "        vertical-align: middle;\n",
              "    }\n",
              "\n",
              "    .dataframe tbody tr th {\n",
              "        vertical-align: top;\n",
              "    }\n",
              "\n",
              "    .dataframe thead th {\n",
              "        text-align: right;\n",
              "    }\n",
              "</style>\n",
              "<table border=\"1\" class=\"dataframe\">\n",
              "  <thead>\n",
              "    <tr style=\"text-align: right;\">\n",
              "      <th></th>\n",
              "      <th>region_name</th>\n",
              "      <th>all_user</th>\n",
              "      <th>user_without_session_percent</th>\n",
              "    </tr>\n",
              "  </thead>\n",
              "  <tbody>\n",
              "    <tr>\n",
              "      <th>0</th>\n",
              "      <td>г Москва</td>\n",
              "      <td>1016</td>\n",
              "      <td>0.27</td>\n",
              "    </tr>\n",
              "    <tr>\n",
              "      <th>1</th>\n",
              "      <td>г Санкт-Петербург</td>\n",
              "      <td>254</td>\n",
              "      <td>0.28</td>\n",
              "    </tr>\n",
              "    <tr>\n",
              "      <th>2</th>\n",
              "      <td>Ростовская обл</td>\n",
              "      <td>243</td>\n",
              "      <td>0.29</td>\n",
              "    </tr>\n",
              "    <tr>\n",
              "      <th>3</th>\n",
              "      <td>Краснодарский край</td>\n",
              "      <td>200</td>\n",
              "      <td>0.25</td>\n",
              "    </tr>\n",
              "    <tr>\n",
              "      <th>4</th>\n",
              "      <td>Ленинградская обл</td>\n",
              "      <td>196</td>\n",
              "      <td>0.25</td>\n",
              "    </tr>\n",
              "    <tr>\n",
              "      <th>5</th>\n",
              "      <td>Московская обл</td>\n",
              "      <td>157</td>\n",
              "      <td>0.27</td>\n",
              "    </tr>\n",
              "    <tr>\n",
              "      <th>6</th>\n",
              "      <td>Другое</td>\n",
              "      <td>130</td>\n",
              "      <td>0.22</td>\n",
              "    </tr>\n",
              "    <tr>\n",
              "      <th>7</th>\n",
              "      <td>Нижегородская обл</td>\n",
              "      <td>121</td>\n",
              "      <td>0.28</td>\n",
              "    </tr>\n",
              "    <tr>\n",
              "      <th>8</th>\n",
              "      <td>Новосибирская обл</td>\n",
              "      <td>79</td>\n",
              "      <td>0.24</td>\n",
              "    </tr>\n",
              "    <tr>\n",
              "      <th>9</th>\n",
              "      <td>Омская обл</td>\n",
              "      <td>45</td>\n",
              "      <td>0.33</td>\n",
              "    </tr>\n",
              "    <tr>\n",
              "      <th>10</th>\n",
              "      <td>Красноярский край</td>\n",
              "      <td>35</td>\n",
              "      <td>0.11</td>\n",
              "    </tr>\n",
              "    <tr>\n",
              "      <th>11</th>\n",
              "      <td>Архангельская обл</td>\n",
              "      <td>22</td>\n",
              "      <td>0.18</td>\n",
              "    </tr>\n",
              "    <tr>\n",
              "      <th>12</th>\n",
              "      <td>Иркутская обл</td>\n",
              "      <td>7</td>\n",
              "      <td>0.29</td>\n",
              "    </tr>\n",
              "    <tr>\n",
              "      <th>13</th>\n",
              "      <td>Забайкальский край</td>\n",
              "      <td>2</td>\n",
              "      <td>0.50</td>\n",
              "    </tr>\n",
              "    <tr>\n",
              "      <th>14</th>\n",
              "      <td>Тульская обл</td>\n",
              "      <td>2</td>\n",
              "      <td>0.50</td>\n",
              "    </tr>\n",
              "  </tbody>\n",
              "</table>\n",
              "</div>"
            ],
            "text/plain": [
              "           region_name  all_user  user_without_session_percent\n",
              "0             г Москва      1016                          0.27\n",
              "1    г Санкт-Петербург       254                          0.28\n",
              "2       Ростовская обл       243                          0.29\n",
              "3   Краснодарский край       200                          0.25\n",
              "4    Ленинградская обл       196                          0.25\n",
              "5       Московская обл       157                          0.27\n",
              "6               Другое       130                          0.22\n",
              "7    Нижегородская обл       121                          0.28\n",
              "8    Новосибирская обл        79                          0.24\n",
              "9           Омская обл        45                          0.33\n",
              "10   Красноярский край        35                          0.11\n",
              "11   Архангельская обл        22                          0.18\n",
              "12       Иркутская обл         7                          0.29\n",
              "13  Забайкальский край         2                          0.50\n",
              "14        Тульская обл         2                          0.50"
            ]
          },
          "execution_count": 13,
          "metadata": {},
          "output_type": "execute_result"
        }
      ],
      "source": [
        "# Менти (регионы, доли)\n",
        "sql = '''\n",
        "WITH data_preparation AS \n",
        "(\n",
        "    SELECT  u.user_id,\n",
        "            r.\"name\" as region_name,\n",
        "            EXISTS (\n",
        "                        SELECT  1 \n",
        "                        FROM    sessions s  \n",
        "                        WHERE   u.user_id = s.mentee_id\n",
        "                    ) has_session\n",
        "    FROM    users u \n",
        "            LEFT JOIN region r \n",
        "                ON u.region_id = r.id \n",
        "    WHERE   u.\"role\" = 'mentee'\n",
        ") \n",
        "\n",
        "SELECT  region_name, \n",
        "        count(user_id) as all_user, \n",
        "        round(count(user_id) FILTER (WHERE has_session IS FALSE) :: NUMERIC / count(user_id), 2) as user_without_session_percent \n",
        "FROM    data_preparation\n",
        "GROUP BY \n",
        "        region_name\n",
        "ORDER BY \n",
        "        all_user DESC, \n",
        "        user_without_session_percent DESC \n",
        "                '''\n",
        "\n",
        "select(sql)"
      ]
    },
    {
      "cell_type": "code",
      "execution_count": null,
      "metadata": {
        "id": "aNvuI6Bu5no0",
        "outputId": "a91306d7-43c6-44fa-ea66-7b54fd1f3484"
      },
      "outputs": [
        {
          "data": {
            "text/plain": [
              "count    15.000000\n",
              "mean      0.284000\n",
              "std       0.101896\n",
              "min       0.110000\n",
              "25%       0.245000\n",
              "50%       0.270000\n",
              "75%       0.290000\n",
              "max       0.500000\n",
              "Name: user_without_session_percent, dtype: float64"
            ]
          },
          "execution_count": 14,
          "metadata": {},
          "output_type": "execute_result"
        }
      ],
      "source": [
        "select(sql)['user_without_session_percent'].describe()"
      ]
    },
    {
      "cell_type": "markdown",
      "metadata": {
        "id": "_xa9m8bl5no0"
      },
      "source": [
        "Несмотря на большое количество пользователей из Москвы, которые не участвовали ни в одной сессии, доля от всех пользователей из этого региона близка к медианному значению (Q2). Более 50% от всех регионов имеют большее значение данной метрики. Нельзя однозначно заявить о влиянии региона на прохождение сессий. "
      ]
    },
    {
      "cell_type": "markdown",
      "metadata": {
        "id": "qiIurylm5no1"
      },
      "source": [
        "По данным нельзя сделать вывод о причинах отсутствия сессий у пользователей. "
      ]
    },
    {
      "cell_type": "markdown",
      "metadata": {
        "id": "TCWep5n65no1"
      },
      "source": [
        "\n",
        "Сколько у каждого ментора в среднем успешных сессий в неделю по месяцам? Как меняется частота встреч в неделю от месяца к месяцу?"
      ]
    },
    {
      "cell_type": "code",
      "execution_count": null,
      "metadata": {
        "id": "h2RK3AQ25no2",
        "outputId": "372cf29c-3dcd-42a0-b65b-be020cdb1d39"
      },
      "outputs": [
        {
          "data": {
            "text/html": [
              "<div>\n",
              "<style scoped>\n",
              "    .dataframe tbody tr th:only-of-type {\n",
              "        vertical-align: middle;\n",
              "    }\n",
              "\n",
              "    .dataframe tbody tr th {\n",
              "        vertical-align: top;\n",
              "    }\n",
              "\n",
              "    .dataframe thead th {\n",
              "        text-align: right;\n",
              "    }\n",
              "</style>\n",
              "<table border=\"1\" class=\"dataframe\">\n",
              "  <thead>\n",
              "    <tr style=\"text-align: right;\">\n",
              "      <th></th>\n",
              "      <th>mentor_id</th>\n",
              "      <th>session_month</th>\n",
              "      <th>month_n</th>\n",
              "      <th>avg_session_per_week</th>\n",
              "    </tr>\n",
              "  </thead>\n",
              "  <tbody>\n",
              "    <tr>\n",
              "      <th>2059</th>\n",
              "      <td>2123</td>\n",
              "      <td>2022-07-01</td>\n",
              "      <td>7</td>\n",
              "      <td>1</td>\n",
              "    </tr>\n",
              "    <tr>\n",
              "      <th>1477</th>\n",
              "      <td>1299</td>\n",
              "      <td>2022-05-01</td>\n",
              "      <td>5</td>\n",
              "      <td>1</td>\n",
              "    </tr>\n",
              "    <tr>\n",
              "      <th>354</th>\n",
              "      <td>325</td>\n",
              "      <td>2022-09-01</td>\n",
              "      <td>9</td>\n",
              "      <td>2</td>\n",
              "    </tr>\n",
              "    <tr>\n",
              "      <th>2652</th>\n",
              "      <td>3407</td>\n",
              "      <td>2022-02-01</td>\n",
              "      <td>2</td>\n",
              "      <td>1</td>\n",
              "    </tr>\n",
              "    <tr>\n",
              "      <th>1909</th>\n",
              "      <td>4503</td>\n",
              "      <td>2022-07-01</td>\n",
              "      <td>7</td>\n",
              "      <td>1</td>\n",
              "    </tr>\n",
              "  </tbody>\n",
              "</table>\n",
              "</div>"
            ],
            "text/plain": [
              "      mentor_id session_month  month_n  avg_session_per_week\n",
              "2059       2123    2022-07-01        7                     1\n",
              "1477       1299    2022-05-01        5                     1\n",
              "354         325    2022-09-01        9                     2\n",
              "2652       3407    2022-02-01        2                     1\n",
              "1909       4503    2022-07-01        7                     1"
            ]
          },
          "execution_count": 15,
          "metadata": {},
          "output_type": "execute_result"
        }
      ],
      "source": [
        "# Сколько у каждого ментора в среднем сессий в неделю по месяцам\n",
        "sql = '''\n",
        "WITH month_week_table AS \n",
        "(\n",
        "    SELECT  mentor_id,\n",
        "            date_trunc('month', session_date_time) :: date session_month,\n",
        "            EXTRACT(month from session_date_time) month_n,\n",
        "            EXTRACT(week from session_date_time) week_n, \n",
        "            count(session_id) session_per_week\n",
        "    FROM    sessions s \n",
        "    WHERE   session_status = 'finished'\n",
        "    GROUP BY \n",
        "            mentor_id, \n",
        "            session_month, \n",
        "            month_n, \n",
        "            week_n\n",
        ")\n",
        "\n",
        "SELECT  mentor_id, \n",
        "        session_month :: date,\n",
        "        month_n :: int, \n",
        "        avg(session_per_week) :: int avg_session_per_week\n",
        "FROM    month_week_table\n",
        "GROUP BY \n",
        "        mentor_id, \n",
        "        session_month,\n",
        "        month_n\n",
        "ORDER BY \n",
        "        avg_session_per_week DESC \n",
        "                '''\n",
        "\n",
        "select(sql).sample(5)"
      ]
    },
    {
      "cell_type": "code",
      "execution_count": null,
      "metadata": {
        "id": "0kVMhr465no3",
        "outputId": "2bea3f3b-dfae-4ec1-edea-b4327f538182"
      },
      "outputs": [
        {
          "data": {
            "image/png": "[encoded data removed]",
            "text/plain": [
              "<Figure size 864x576 with 1 Axes>"
            ]
          },
          "metadata": {
            "needs_background": "light"
          },
          "output_type": "display_data"
        }
      ],
      "source": [
        "fig, ax = plt.subplots(figsize=(12, 8))\n",
        "sns.barplot(data=(select(sql).astype({'session_month' : 'datetime64[ns]'})\n",
        "                  .query(\"session_month >= '2022-01-01'\")\n",
        "                  .groupby(['month_n', 'avg_session_per_week'])\n",
        "                  .agg(mentor_quantity = ('mentor_id', 'nunique'))\n",
        "                  .reset_index()), \n",
        "            x=\"month_n\", y=\"mentor_quantity\", \n",
        "            hue=\"avg_session_per_week\")\n",
        "plt.legend(bbox_to_anchor=(1, 1))\n",
        "plt.show()"
      ]
    },
    {
      "cell_type": "markdown",
      "metadata": {
        "id": "q1x3KNIB5no3"
      },
      "source": [
        "Как видно из нашей визуализации с мая часть менторов стали проводить в среднем более 2 сессий в неделю, а для дальнейших месяцев среднее количество сессий в неделю еще увеличилось и в сентябре у нас есть менторы, которые провели 5 и более сессий. "
      ]
    },
    {
      "cell_type": "code",
      "execution_count": null,
      "metadata": {
        "id": "TEjIfawe5no3",
        "outputId": "34a70886-b7ca-4b73-eda2-befed336b3a2"
      },
      "outputs": [
        {
          "data": {
            "text/html": [
              "<div>\n",
              "<style scoped>\n",
              "    .dataframe tbody tr th:only-of-type {\n",
              "        vertical-align: middle;\n",
              "    }\n",
              "\n",
              "    .dataframe tbody tr th {\n",
              "        vertical-align: top;\n",
              "    }\n",
              "\n",
              "    .dataframe thead th {\n",
              "        text-align: right;\n",
              "    }\n",
              "</style>\n",
              "<table border=\"1\" class=\"dataframe\">\n",
              "  <thead>\n",
              "    <tr style=\"text-align: right;\">\n",
              "      <th></th>\n",
              "      <th>mentor_id</th>\n",
              "    </tr>\n",
              "  </thead>\n",
              "  <tbody>\n",
              "    <tr>\n",
              "      <th>0</th>\n",
              "      <td>4256</td>\n",
              "    </tr>\n",
              "    <tr>\n",
              "      <th>1</th>\n",
              "      <td>2192</td>\n",
              "    </tr>\n",
              "    <tr>\n",
              "      <th>2</th>\n",
              "      <td>1903</td>\n",
              "    </tr>\n",
              "    <tr>\n",
              "      <th>3</th>\n",
              "      <td>1552</td>\n",
              "    </tr>\n",
              "    <tr>\n",
              "      <th>4</th>\n",
              "      <td>4798</td>\n",
              "    </tr>\n",
              "    <tr>\n",
              "      <th>5</th>\n",
              "      <td>3855</td>\n",
              "    </tr>\n",
              "    <tr>\n",
              "      <th>6</th>\n",
              "      <td>328</td>\n",
              "    </tr>\n",
              "    <tr>\n",
              "      <th>7</th>\n",
              "      <td>4015</td>\n",
              "    </tr>\n",
              "    <tr>\n",
              "      <th>8</th>\n",
              "      <td>1357</td>\n",
              "    </tr>\n",
              "  </tbody>\n",
              "</table>\n",
              "</div>"
            ],
            "text/plain": [
              "   mentor_id\n",
              "0       4256\n",
              "1       2192\n",
              "2       1903\n",
              "3       1552\n",
              "4       4798\n",
              "5       3855\n",
              "6        328\n",
              "7       4015\n",
              "8       1357"
            ]
          },
          "execution_count": 17,
          "metadata": {},
          "output_type": "execute_result"
        }
      ],
      "source": [
        "# ТОП 5 менторов по количеству сессий за последний полный месяц\n",
        "\n",
        "sql = '''\n",
        "WITH session_per_mentor AS \n",
        "(\n",
        "    SELECT  mentor_id,  \n",
        "            count(session_id) as session_quantity\n",
        "    FROM    sessions s\n",
        "    WHERE   session_date_time :: date BETWEEN '2022-08-01' AND '2022-08-31'\n",
        "    GROUP BY \n",
        "            mentor_id \n",
        "),\n",
        "session_quantity_numeration AS\n",
        "(\n",
        "    SELECT  mentor_id, \n",
        "            session_quantity, \n",
        "            DENSE_RANK () OVER (ORDER BY session_quantity DESC) as dr\n",
        "    FROM    session_per_mentor\n",
        ") \n",
        "\n",
        "SELECT  mentor_id\n",
        "FROM    session_quantity_numeration\n",
        "WHERE   dr <= 5\n",
        "                '''\n",
        "\n",
        "select(sql)"
      ]
    },
    {
      "cell_type": "markdown",
      "metadata": {
        "id": "4NJr-rkZ5no4"
      },
      "source": [
        "\n",
        "\n",
        "Сколько времени в среднем проходит между менторскими встречами у одного менти? ментора?"
      ]
    },
    {
      "cell_type": "code",
      "execution_count": null,
      "metadata": {
        "id": "L-7LMQCn5no4",
        "outputId": "9bed4674-e79a-4049-9229-4bb70a43daff"
      },
      "outputs": [
        {
          "data": {
            "text/plain": [
              "count    623.000000\n",
              "mean      46.290530\n",
              "std       57.030967\n",
              "min        0.000000\n",
              "25%        7.000000\n",
              "50%       24.000000\n",
              "75%       62.000000\n",
              "max      325.000000\n",
              "Name: day_diff, dtype: float64"
            ]
          },
          "execution_count": 18,
          "metadata": {},
          "output_type": "execute_result"
        }
      ],
      "source": [
        "sql = '''\n",
        "WITH next_session_dt_preparation AS \n",
        "(\n",
        "    SELECT  mentor_id, \n",
        "            session_date_time, \n",
        "            LEAD (session_date_time) OVER (PARTITION BY mentor_id ORDER BY session_date_time) as next_session_dt, \n",
        "            ROW_NUMBER () OVER (PARTITION BY mentor_id ORDER BY session_date_time) rn\n",
        "    FROM    sessions s \n",
        "), \n",
        "day_diff_table AS \n",
        "(\n",
        "    SELECT  *,\n",
        "            date_part('day', next_session_dt - session_date_time) as day_diff\n",
        "    FROM    next_session_dt_preparation\n",
        "    WHERE   rn = 1\n",
        ") \n",
        "\n",
        "SELECT  mentor_id,\n",
        "        day_diff\n",
        "FROM    day_diff_table\n",
        "                '''\n",
        "\n",
        "select(sql)['day_diff'].describe()"
      ]
    },
    {
      "cell_type": "code",
      "execution_count": null,
      "metadata": {
        "id": "eRb-1uIr5no5",
        "outputId": "98b5c547-168e-4327-ad6a-80c10eb9887b"
      },
      "outputs": [
        {
          "data": {
            "image/png": "[encoded data removed]",
            "text/plain": [
              "<Figure size 360x360 with 1 Axes>"
            ]
          },
          "metadata": {
            "needs_background": "light"
          },
          "output_type": "display_data"
        }
      ],
      "source": [
        "sns.displot(data=select(sql), x=\"day_diff\")\n",
        "plt.title('Распределение дней между 1 и 2 сессией (менторы)')\n",
        "plt.ylabel('Количество дней')\n",
        "plt.show()"
      ]
    },
    {
      "cell_type": "code",
      "execution_count": null,
      "metadata": {
        "id": "pvP_qari5no5",
        "outputId": "f198ee62-fcf3-489c-96d6-6559f2c8c99e"
      },
      "outputs": [
        {
          "data": {
            "text/plain": [
              "count    1497.000000\n",
              "mean       74.050768\n",
              "std        82.108364\n",
              "min         0.000000\n",
              "25%        15.000000\n",
              "50%        45.000000\n",
              "75%       106.000000\n",
              "max       509.000000\n",
              "Name: day_diff, dtype: float64"
            ]
          },
          "execution_count": 20,
          "metadata": {},
          "output_type": "execute_result"
        }
      ],
      "source": [
        "sql = '''\n",
        "WITH next_session_dt_preparation AS \n",
        "(\n",
        "    SELECT  mentee_id, \n",
        "            session_date_time, \n",
        "            LEAD (session_date_time) OVER (PARTITION BY mentee_id ORDER BY session_date_time) as next_session_dt, \n",
        "            ROW_NUMBER () OVER (PARTITION BY mentee_id ORDER BY session_date_time) rn\n",
        "    FROM    sessions s \n",
        "), \n",
        "day_diff_table AS \n",
        "(\n",
        "    SELECT  *,\n",
        "            date_part('day', next_session_dt - session_date_time) as day_diff\n",
        "    FROM    next_session_dt_preparation\n",
        "    WHERE   rn = 1\n",
        ") \n",
        "\n",
        "SELECT  mentee_id,\n",
        "        day_diff\n",
        "FROM    day_diff_table\n",
        "                '''\n",
        "\n",
        "select(sql)['day_diff'].describe()"
      ]
    },
    {
      "cell_type": "code",
      "execution_count": null,
      "metadata": {
        "id": "Z8A9s4JX5no6",
        "outputId": "6b6e62df-ec16-4671-8ba6-79cc75f732aa"
      },
      "outputs": [
        {
          "data": {
            "image/png": "[encoded data removed]",
            "text/plain": [
              "<Figure size 360x360 with 1 Axes>"
            ]
          },
          "metadata": {
            "needs_background": "light"
          },
          "output_type": "display_data"
        }
      ],
      "source": [
        "sns.displot(data=select(sql), x=\"day_diff\")\n",
        "plt.title('Распределение дней между 1 и 2 сессией (менти)')\n",
        "plt.ylabel('Количество дней')\n",
        "plt.show()"
      ]
    },
    {
      "cell_type": "markdown",
      "metadata": {
        "id": "Miyfzs2q5no6"
      },
      "source": [
        "Распределения имеют длинные хвосты, но несмотря на это 50% пользователей, которые приняли участие во второй сессии сделали это в течение месяца (для менторов) и в течение полутора месяцев для менти. "
      ]
    },
    {
      "cell_type": "markdown",
      "metadata": {
        "id": "-G3Lyb2E5no7"
      },
      "source": [
        "\n",
        "Сколько сессий по каждому направлению менторства в месяц обычно отменяется? Как меняется доля отмененных сессий помесячно?"
      ]
    },
    {
      "cell_type": "markdown",
      "metadata": {
        "id": "-OZalmgz5no8"
      },
      "source": [
        "Рассчитаем долю отмен от всех назначенных сессий. "
      ]
    },
    {
      "cell_type": "code",
      "execution_count": null,
      "metadata": {
        "id": "RycZ6ovd5no8",
        "outputId": "e187f1ef-ad64-412b-83c0-52d6ed10df9b"
      },
      "outputs": [
        {
          "data": {
            "text/html": [
              "<div>\n",
              "<style scoped>\n",
              "    .dataframe tbody tr th:only-of-type {\n",
              "        vertical-align: middle;\n",
              "    }\n",
              "\n",
              "    .dataframe tbody tr th {\n",
              "        vertical-align: top;\n",
              "    }\n",
              "\n",
              "    .dataframe thead th {\n",
              "        text-align: right;\n",
              "    }\n",
              "</style>\n",
              "<table border=\"1\" class=\"dataframe\">\n",
              "  <thead>\n",
              "    <tr style=\"text-align: right;\">\n",
              "      <th></th>\n",
              "      <th>session_month</th>\n",
              "      <th>all_session</th>\n",
              "      <th>canceled_percent</th>\n",
              "    </tr>\n",
              "  </thead>\n",
              "  <tbody>\n",
              "    <tr>\n",
              "      <th>0</th>\n",
              "      <td>2021-02-01</td>\n",
              "      <td>3</td>\n",
              "      <td>0.00</td>\n",
              "    </tr>\n",
              "    <tr>\n",
              "      <th>1</th>\n",
              "      <td>2021-03-01</td>\n",
              "      <td>3</td>\n",
              "      <td>0.00</td>\n",
              "    </tr>\n",
              "    <tr>\n",
              "      <th>2</th>\n",
              "      <td>2021-04-01</td>\n",
              "      <td>7</td>\n",
              "      <td>0.29</td>\n",
              "    </tr>\n",
              "    <tr>\n",
              "      <th>3</th>\n",
              "      <td>2021-05-01</td>\n",
              "      <td>19</td>\n",
              "      <td>0.21</td>\n",
              "    </tr>\n",
              "    <tr>\n",
              "      <th>4</th>\n",
              "      <td>2021-06-01</td>\n",
              "      <td>27</td>\n",
              "      <td>0.15</td>\n",
              "    </tr>\n",
              "    <tr>\n",
              "      <th>5</th>\n",
              "      <td>2021-07-01</td>\n",
              "      <td>37</td>\n",
              "      <td>0.19</td>\n",
              "    </tr>\n",
              "    <tr>\n",
              "      <th>6</th>\n",
              "      <td>2021-08-01</td>\n",
              "      <td>59</td>\n",
              "      <td>0.10</td>\n",
              "    </tr>\n",
              "    <tr>\n",
              "      <th>7</th>\n",
              "      <td>2021-09-01</td>\n",
              "      <td>71</td>\n",
              "      <td>0.13</td>\n",
              "    </tr>\n",
              "    <tr>\n",
              "      <th>8</th>\n",
              "      <td>2021-10-01</td>\n",
              "      <td>101</td>\n",
              "      <td>0.11</td>\n",
              "    </tr>\n",
              "    <tr>\n",
              "      <th>9</th>\n",
              "      <td>2021-11-01</td>\n",
              "      <td>119</td>\n",
              "      <td>0.20</td>\n",
              "    </tr>\n",
              "    <tr>\n",
              "      <th>10</th>\n",
              "      <td>2021-12-01</td>\n",
              "      <td>161</td>\n",
              "      <td>0.19</td>\n",
              "    </tr>\n",
              "    <tr>\n",
              "      <th>11</th>\n",
              "      <td>2022-01-01</td>\n",
              "      <td>192</td>\n",
              "      <td>0.17</td>\n",
              "    </tr>\n",
              "    <tr>\n",
              "      <th>12</th>\n",
              "      <td>2022-02-01</td>\n",
              "      <td>223</td>\n",
              "      <td>0.15</td>\n",
              "    </tr>\n",
              "    <tr>\n",
              "      <th>13</th>\n",
              "      <td>2022-03-01</td>\n",
              "      <td>335</td>\n",
              "      <td>0.18</td>\n",
              "    </tr>\n",
              "    <tr>\n",
              "      <th>14</th>\n",
              "      <td>2022-04-01</td>\n",
              "      <td>466</td>\n",
              "      <td>0.16</td>\n",
              "    </tr>\n",
              "    <tr>\n",
              "      <th>15</th>\n",
              "      <td>2022-05-01</td>\n",
              "      <td>593</td>\n",
              "      <td>0.18</td>\n",
              "    </tr>\n",
              "    <tr>\n",
              "      <th>16</th>\n",
              "      <td>2022-06-01</td>\n",
              "      <td>675</td>\n",
              "      <td>0.13</td>\n",
              "    </tr>\n",
              "    <tr>\n",
              "      <th>17</th>\n",
              "      <td>2022-07-01</td>\n",
              "      <td>935</td>\n",
              "      <td>0.17</td>\n",
              "    </tr>\n",
              "    <tr>\n",
              "      <th>18</th>\n",
              "      <td>2022-08-01</td>\n",
              "      <td>1356</td>\n",
              "      <td>0.16</td>\n",
              "    </tr>\n",
              "  </tbody>\n",
              "</table>\n",
              "</div>"
            ],
            "text/plain": [
              "   session_month  all_session  canceled_percent\n",
              "0     2021-02-01            3              0.00\n",
              "1     2021-03-01            3              0.00\n",
              "2     2021-04-01            7              0.29\n",
              "3     2021-05-01           19              0.21\n",
              "4     2021-06-01           27              0.15\n",
              "5     2021-07-01           37              0.19\n",
              "6     2021-08-01           59              0.10\n",
              "7     2021-09-01           71              0.13\n",
              "8     2021-10-01          101              0.11\n",
              "9     2021-11-01          119              0.20\n",
              "10    2021-12-01          161              0.19\n",
              "11    2022-01-01          192              0.17\n",
              "12    2022-02-01          223              0.15\n",
              "13    2022-03-01          335              0.18\n",
              "14    2022-04-01          466              0.16\n",
              "15    2022-05-01          593              0.18\n",
              "16    2022-06-01          675              0.13\n",
              "17    2022-07-01          935              0.17\n",
              "18    2022-08-01         1356              0.16"
            ]
          },
          "execution_count": 22,
          "metadata": {},
          "output_type": "execute_result"
        }
      ],
      "source": [
        "sql = '''\n",
        "SELECT  date_trunc('month', session_date_time) :: date session_month,\n",
        "        count(session_id) all_session, \n",
        "        round(count(session_id) FILTER (WHERE session_status = 'canceled') :: numeric/ count(session_id), 2) canceled_percent\n",
        "FROM    sessions  \n",
        "WHERE   session_date_time :: date < '2022-09-01'\n",
        "GROUP BY \n",
        "        session_month\n",
        "ORDER BY \n",
        "        session_month\n",
        "                '''\n",
        "\n",
        "select(sql)"
      ]
    },
    {
      "cell_type": "code",
      "execution_count": null,
      "metadata": {
        "id": "u0o8A8k15no9",
        "outputId": "db3fdaa4-4dd6-42df-dff1-eef3ec7e583c"
      },
      "outputs": [
        {
          "data": {
            "text/plain": [
              "count    19.000000\n",
              "mean      0.151053\n",
              "std       0.067321\n",
              "min       0.000000\n",
              "25%       0.130000\n",
              "50%       0.160000\n",
              "75%       0.185000\n",
              "max       0.290000\n",
              "Name: canceled_percent, dtype: float64"
            ]
          },
          "execution_count": 23,
          "metadata": {},
          "output_type": "execute_result"
        }
      ],
      "source": [
        "select(sql)['canceled_percent'].describe()"
      ]
    },
    {
      "cell_type": "markdown",
      "metadata": {
        "id": "S4wqYGBk5no9"
      },
      "source": [
        "Медианное и среднее значение досточно близки. Это значит, что наша метрика (доля отмен) не склонна к выбросам, а ее нормальное значение лежит в диапазоне от 6 до 21 процентов. "
      ]
    },
    {
      "cell_type": "markdown",
      "metadata": {
        "id": "Fv4_g01l5no9"
      },
      "source": [
        "\n",
        "Определите, в какой день недели последнего полного месяца прошло больше всего встреч. В результате выведите названия сферы и необходимые данные."
      ]
    },
    {
      "cell_type": "code",
      "execution_count": null,
      "metadata": {
        "id": "_4DdGZdX5no9",
        "outputId": "1b18e209-e97c-45f1-c95e-568b9c482f54"
      },
      "outputs": [
        {
          "data": {
            "text/html": [
              "<div>\n",
              "<style scoped>\n",
              "    .dataframe tbody tr th:only-of-type {\n",
              "        vertical-align: middle;\n",
              "    }\n",
              "\n",
              "    .dataframe tbody tr th {\n",
              "        vertical-align: top;\n",
              "    }\n",
              "\n",
              "    .dataframe thead th {\n",
              "        text-align: right;\n",
              "    }\n",
              "</style>\n",
              "<table border=\"1\" class=\"dataframe\">\n",
              "  <thead>\n",
              "    <tr style=\"text-align: right;\">\n",
              "      <th></th>\n",
              "      <th>domain_name</th>\n",
              "      <th>week_day</th>\n",
              "      <th>session_quantity</th>\n",
              "    </tr>\n",
              "  </thead>\n",
              "  <tbody>\n",
              "    <tr>\n",
              "      <th>0</th>\n",
              "      <td>AB тестирование</td>\n",
              "      <td>tue</td>\n",
              "      <td>27</td>\n",
              "    </tr>\n",
              "    <tr>\n",
              "      <th>1</th>\n",
              "      <td>DS</td>\n",
              "      <td>wed</td>\n",
              "      <td>40</td>\n",
              "    </tr>\n",
              "    <tr>\n",
              "      <th>2</th>\n",
              "      <td>Python для аналитики данных</td>\n",
              "      <td>wed</td>\n",
              "      <td>40</td>\n",
              "    </tr>\n",
              "    <tr>\n",
              "      <th>3</th>\n",
              "      <td>SQL</td>\n",
              "      <td>mon</td>\n",
              "      <td>47</td>\n",
              "    </tr>\n",
              "    <tr>\n",
              "      <th>4</th>\n",
              "      <td>Визуализация данных</td>\n",
              "      <td>wed</td>\n",
              "      <td>29</td>\n",
              "    </tr>\n",
              "    <tr>\n",
              "      <th>5</th>\n",
              "      <td>Машинное обучение</td>\n",
              "      <td>tue</td>\n",
              "      <td>42</td>\n",
              "    </tr>\n",
              "    <tr>\n",
              "      <th>6</th>\n",
              "      <td>Продуктовая аналитика</td>\n",
              "      <td>sun</td>\n",
              "      <td>35</td>\n",
              "    </tr>\n",
              "  </tbody>\n",
              "</table>\n",
              "</div>"
            ],
            "text/plain": [
              "                   domain_name week_day  session_quantity\n",
              "0              AB тестирование      tue                27\n",
              "1                           DS      wed                40\n",
              "2  Python для аналитики данных      wed                40\n",
              "3                          SQL      mon                47\n",
              "4          Визуализация данных      wed                29\n",
              "5            Машинное обучение      tue                42\n",
              "6        Продуктовая аналитика      sun                35"
            ]
          },
          "execution_count": 24,
          "metadata": {},
          "output_type": "execute_result"
        }
      ],
      "source": [
        "sql = '''\n",
        "WITH session_per_week_day AS \n",
        "(\n",
        "    SELECT  d.\"name\" domain_name, \n",
        "            to_char(s.session_date_time, 'dy') week_day, \n",
        "            count(session_id) session_quantity\n",
        "    FROM    sessions s\n",
        "            INNER JOIN \"domain\" d \n",
        "                ON s.mentor_domain_id = d.id  \n",
        "    WHERE   session_date_time :: date BETWEEN '2022-08-01' AND '2022-08-31'\n",
        "    GROUP BY \n",
        "            domain_name, \n",
        "            week_day\n",
        "),\n",
        "dense_rank_table AS \n",
        "(\n",
        "    SELECT  *, \n",
        "            DENSE_RANK() OVER (PARTITION BY domain_name ORDER BY session_quantity DESC) dr\n",
        "    FROM    session_per_week_day\n",
        ")\n",
        "\n",
        "SELECT  domain_name, \n",
        "        week_day, \n",
        "        session_quantity\n",
        "FROM    dense_rank_table\n",
        "WHERE   dr = 1\n",
        "                '''\n",
        "\n",
        "select(sql)"
      ]
    },
    {
      "cell_type": "markdown",
      "metadata": {
        "id": "2BU7-1GZ5no-"
      },
      "source": [
        "Самый загруженный день — среда. "
      ]
    },
    {
      "cell_type": "markdown",
      "metadata": {
        "id": "Wu1OjhRx5no_"
      },
      "source": [
        "\n",
        "Спрогнозируйте, сколько новых менторов нужно найти, если в следующем месяце количество активных менти увеличится на 500 человек. Учитывайте, что занятость новых менторов, будет такой же, как у текущих."
      ]
    },
    {
      "cell_type": "markdown",
      "metadata": {
        "id": "HAOIfK7H5no_"
      },
      "source": [
        "Данных для полноценного прогнозироания у нас недостаточно. Попробуем спрогнозировать необходимое количество менторов с помощью модели линейной регрессии. \n",
        "\n",
        "Рассчитаем необходимые данные и спрогнозируем ожидаемое значение:"
      ]
    },
    {
      "cell_type": "code",
      "execution_count": null,
      "metadata": {
        "id": "Ut0ZZ0Eb5no_",
        "outputId": "c35128c4-d9d7-4f0f-845e-bfe207b9061e"
      },
      "outputs": [
        {
          "data": {
            "text/html": [
              "<div>\n",
              "<style scoped>\n",
              "    .dataframe tbody tr th:only-of-type {\n",
              "        vertical-align: middle;\n",
              "    }\n",
              "\n",
              "    .dataframe tbody tr th {\n",
              "        vertical-align: top;\n",
              "    }\n",
              "\n",
              "    .dataframe thead th {\n",
              "        text-align: right;\n",
              "    }\n",
              "</style>\n",
              "<table border=\"1\" class=\"dataframe\">\n",
              "  <thead>\n",
              "    <tr style=\"text-align: right;\">\n",
              "      <th></th>\n",
              "      <th>date_trunc</th>\n",
              "      <th>mentor_cnt</th>\n",
              "      <th>mentee_cnt</th>\n",
              "    </tr>\n",
              "  </thead>\n",
              "  <tbody>\n",
              "    <tr>\n",
              "      <th>17</th>\n",
              "      <td>2022-07-01</td>\n",
              "      <td>446</td>\n",
              "      <td>684</td>\n",
              "    </tr>\n",
              "    <tr>\n",
              "      <th>18</th>\n",
              "      <td>2022-08-01</td>\n",
              "      <td>509</td>\n",
              "      <td>883</td>\n",
              "    </tr>\n",
              "    <tr>\n",
              "      <th>19</th>\n",
              "      <td>2022-09-01</td>\n",
              "      <td>469</td>\n",
              "      <td>757</td>\n",
              "    </tr>\n",
              "  </tbody>\n",
              "</table>\n",
              "</div>"
            ],
            "text/plain": [
              "    date_trunc  mentor_cnt  mentee_cnt\n",
              "17  2022-07-01         446         684\n",
              "18  2022-08-01         509         883\n",
              "19  2022-09-01         469         757"
            ]
          },
          "execution_count": 25,
          "metadata": {},
          "output_type": "execute_result"
        }
      ],
      "source": [
        "sql = '''\n",
        "SELECT  date_trunc('month', session_date_time) :: date, \n",
        "        count(DISTINCT  mentor_id) mentor_cnt, \n",
        "        count(DISTINCT mentee_id) mentee_cnt\n",
        "FROM    sessions s \n",
        "GROUP BY \n",
        "        1\n",
        "ORDER BY \n",
        "        1\n",
        "                '''\n",
        "\n",
        "select(sql).tail(3)"
      ]
    },
    {
      "cell_type": "code",
      "execution_count": null,
      "metadata": {
        "id": "ZNWNcmbx5npA",
        "outputId": "b542edcf-aa84-43eb-ad54-a8da42997cb6"
      },
      "outputs": [
        {
          "name": "stdout",
          "output_type": "stream",
          "text": [
            "Потребуется менторов:  792.0\n",
            "Потребуется найти менторов:  323.0\n"
          ]
        }
      ],
      "source": [
        "# Подсчет коэффициента линейной регрессии и прогнозирование\n",
        "\n",
        "x = select(sql)['mentee_cnt'].to_numpy().reshape((-1, 1))\n",
        "y = select(sql)['mentor_cnt'].to_numpy()\n",
        "\n",
        "model = LinearRegression().fit(x, y)\n",
        "\n",
        "x_new = np.append(x, x[-1] + 500).reshape((-1, 1))\n",
        "y_new = model.predict(x_new)\n",
        "\n",
        "print(\"Потребуется менторов: \", round(y_new[-1], 0))\n",
        "print(\"Потребуется найти менторов: \", round(y_new[-1], 0) - round(y[-1], 0))"
      ]
    }
  ],
  "metadata": {
    "hide_input": false,
    "kernelspec": {
      "display_name": "Python 3",
      "language": "python",
      "name": "python3"
    },
    "language_info": {
      "codemirror_mode": {
        "name": "ipython",
        "version": 3
      },
      "file_extension": ".py",
      "mimetype": "text/x-python",
      "name": "python",
      "nbconvert_exporter": "python",
      "pygments_lexer": "ipython3",
      "version": "3.8.5"
    },
    "colab": {
      "provenance": [],
      "include_colab_link": true
    }
  },
  "nbformat": 4,
  "nbformat_minor": 0
}