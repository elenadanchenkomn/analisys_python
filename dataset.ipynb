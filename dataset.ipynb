{
 "cells": [
  {
   "cell_type": "code",
   "execution_count": 1,
   "metadata": {},
   "outputs": [],
   "source": [
    "import os"
   ]
  },
  {
   "cell_type": "code",
   "execution_count": 2,
   "metadata": {},
   "outputs": [],
   "source": [
    "from datetime import datetime"
   ]
  },
  {
   "cell_type": "code",
   "execution_count": 3,
   "metadata": {},
   "outputs": [],
   "source": [
    "import pandas as pd"
   ]
  },
  {
   "cell_type": "code",
   "execution_count": 4,
   "metadata": {},
   "outputs": [],
   "source": [
    "result_path = f'Результат/{datetime.now().strftime(\"%Y-%m-%d\")}/'\n",
    "if not os.path.exists(result_path):\n",
    "    os.makedirs(result_path)"
   ]
  },
  {
   "cell_type": "code",
   "execution_count": 5,
   "metadata": {},
   "outputs": [],
   "source": [
    "sbis_names = [\"Дата\",\n",
    "            \"Номер\",\n",
    "            \"Сумма\",\n",
    "            \"Статус\",\n",
    "            \"Примечание\",\n",
    "            \"Комментарий\",\n",
    "            \"Контрагент\",\n",
    "            \"ИНН/КПП\",\n",
    "            \"Организация\",\n",
    "            \"ИНН/КПП\",\n",
    "            \"Тип документа\",\n",
    "            \"Имя файла\",\n",
    "            \"Дата\",\n",
    "            \"Номер 1\",\n",
    "            \"Сумма 1\",\n",
    "            \"Сумма НДС\",\n",
    "            \"Ответственный\",\n",
    "            \"Подразделение\",\n",
    "            \"Код\",\n",
    "            \"Дата\",\n",
    "            \"Время\",\n",
    "            \"Тип пакета\",\n",
    "            \"Идентификатор пакета\",\n",
    "            \"Запущено в обработку\",\n",
    "            \"Получено контрагентом\",\n",
    "            \"Завершено\",\n",
    "            \"Увеличение суммы\",\n",
    "            \"НДC\",\n",
    "            \"Уменьшение суммы\",\n",
    "            \"НДС\"\n",
    "            ]"
   ]
  },
  {
   "cell_type": "code",
   "execution_count": 6,
   "metadata": {},
   "outputs": [],
   "source": [
    "sbis_folder = \"Входящие\"\n",
    "sbis_files = os.listdir(sbis_folder)"
   ]
  },
  {
   "cell_type": "code",
   "execution_count": 7,
   "metadata": {},
   "outputs": [],
   "source": [
    "dfs = []\n",
    "for file in sbis_files:\n",
    "    if 'csv' not in file:\n",
    "        continue\n",
    "    df = pd.read_csv(sbis_folder + \"/\" + file, skiprows=1, sep = \";\", encoding=\"windows-1251\", header=None)\n",
    "    dfs.append(df)"
   ]
  },
  {
   "cell_type": "code",
   "execution_count": 10,
   "metadata": {},
   "outputs": [],
   "source": [
    "sbis = pd.concat(dfs, ignore_index=True)\n",
    "sbis.columns = sbis_names\n",
    "sbis.columns = [c.replace(' ', '_') for c in sbis.columns]"
   ]
  },
  {
   "cell_type": "code",
   "execution_count": 11,
   "metadata": {},
   "outputs": [],
   "source": [
    "apteka_folder = \"Аптеки/csv/correct/\"\n",
    "apteka_files = os.listdir(apteka_folder)"
   ]
  },
  {
   "cell_type": "code",
   "execution_count": 12,
   "metadata": {},
   "outputs": [
    {
     "name": "stderr",
     "output_type": "stream",
     "text": [
      "C:\\Users\\Elena\\AppData\\Roaming\\Python\\Python311\\site-packages\\pandas\\util\\_decorators.py:211: FutureWarning: the 'encoding' keyword is deprecated and will be removed in a future version. Please take steps to stop the use of 'encoding'\n",
      "  return func(*args, **kwargs)\n"
     ]
    },
    {
     "name": "stdout",
     "output_type": "stream",
     "text": [
      "366.csv Обработан!\n"
     ]
    },
    {
     "name": "stderr",
     "output_type": "stream",
     "text": [
      "C:\\Users\\Elena\\AppData\\Roaming\\Python\\Python311\\site-packages\\pandas\\util\\_decorators.py:211: FutureWarning: the 'encoding' keyword is deprecated and will be removed in a future version. Please take steps to stop the use of 'encoding'\n",
      "  return func(*args, **kwargs)\n"
     ]
    },
    {
     "name": "stdout",
     "output_type": "stream",
     "text": [
      "А123.csv Обработан!\n"
     ]
    }
   ],
   "source": [
    "for file in apteka_files:\n",
    "\n",
    "    if 'csv' not in file:\n",
    "        continue\n",
    "\n",
    "    apteka = pd.read_csv(apteka_folder + file, sep = \";\", encoding=\"windows-1251\")\n",
    "    apteka[\"Номер счет-фактуры\"] = \"\"\n",
    "    apteka[\"Сумма счет-фактуры\"] = \"\"\n",
    "    apteka[\"Дата счет-фактуры\"] = \"\"\n",
    "    apteka[\"Сравнение дат\"] = \"\"\n",
    "\n",
    "    docs = [\"СчФктр\", \"УпдДоп\", \"УпдСчфДоп\", \"ЭДОНакл\"]\n",
    "\n",
    "    for i, row in apteka.iterrows():\n",
    "        nakl = row[\"Номер накладной\"]\n",
    "\n",
    "        if 'ЕАПТЕКА' in row[\"Поставщик\"]:\n",
    "            nakl += \"/15\"\n",
    "\n",
    "        records = sbis[sbis.Номер.values == nakl]\n",
    "        records = records[records.Тип_документа.isin(docs)]\n",
    "\n",
    "        if records.empty:\n",
    "            continue\n",
    "\n",
    "        invoice = records.iloc[0][\"Номер\"]\n",
    "        summ = records.iloc[0][\"Сумма\"]\n",
    "        date = records.iloc[0][\"Дата\"][1]\n",
    "        date = datetime.strptime(date, \"%d.%m.%y\").strftime(\"%d.%m.%Y\")\n",
    "\n",
    "        apteka.at[i, \"Номер счет-фактуры\"] = invoice\n",
    "        apteka.at[i, \"Сумма счет-фактуры\"] = summ\n",
    "        apteka.at[i, \"Дата счет-фактуры\"] = date\n",
    "        apteka.at[i, \"Сравнение дат\"] = \"\" if (date == apteka.at[i, 'Дата накладной']) else \"Не совпадает!\"\n",
    "\n",
    "\n",
    "    apteka_columns = ['№ п/п', 'Штрих-код партии', 'Наименование товара', 'Поставщик',\n",
    "        'Дата приходного документа', 'Номер приходного документа',\n",
    "        'Дата накладной', 'Номер накладной', 'Номер счет-фактуры',\n",
    "        'Сумма счет-фактуры', 'Кол-во',\n",
    "        'Сумма в закупочных ценах без НДС', 'Ставка НДС поставщика',\n",
    "        'Сумма НДС', 'Сумма в закупочных ценах с НДС', 'Дата счет-фактуры', 'Сравнение дат']\n",
    "\n",
    "    apteka = apteka[apteka_columns]\n",
    "    apteka.to_excel(f\"{result_path}{file.split('.csv')[0]} - результат.xlsx\", index=False, encoding=\"windows-1251\")\n",
    "    print(f'{file} Обработан!')"
   ]
  }
 ],
 "metadata": {
  "kernelspec": {
   "display_name": "Python 3",
   "language": "python",
   "name": "python3"
  },
  "language_info": {
   "codemirror_mode": {
    "name": "ipython",
    "version": 3
   },
   "file_extension": ".py",
   "mimetype": "text/x-python",
   "name": "python",
   "nbconvert_exporter": "python",
   "pygments_lexer": "ipython3",
   "version": "3.11.2"
  },
  "orig_nbformat": 4
 },
 "nbformat": 4,
 "nbformat_minor": 2
}
